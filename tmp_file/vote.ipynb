{
 "cells": [
  {
   "cell_type": "code",
   "execution_count": 1,
   "id": "c5be169e",
   "metadata": {
    "ExecuteTime": {
     "end_time": "2023-07-15T09:24:30.323586458Z",
     "start_time": "2023-07-15T09:24:29.454945909Z"
    }
   },
   "outputs": [],
   "source": [
    "import numpy as np\n",
    "import pandas as pd\n",
    "import catboost as cb\n",
    "from sklearn.preprocessing import StandardScaler\n",
    "from imblearn.over_sampling import KMeansSMOTE\n",
    "from sklearn.metrics import f1_score, classification_report\n",
    "from sklearn.ensemble import GradientBoostingClassifier\n",
    "from sklearn import svm\n",
    "from sklearn.ensemble import VotingClassifier"
   ]
  },
  {
   "cell_type": "code",
   "execution_count": 2,
   "outputs": [],
   "source": [
    "# 创建一个包装器类，对CatBoostClassifier进行包装\n",
    "class CatBoostClassifierWrapper(cb.CatBoostClassifier):\n",
    "    def predict(self, X):\n",
    "        return super().predict(X).ravel()"
   ],
   "metadata": {
    "collapsed": false,
    "ExecuteTime": {
     "end_time": "2023-07-15T09:24:30.326270251Z",
     "start_time": "2023-07-15T09:24:30.324191298Z"
    }
   }
  },
  {
   "cell_type": "code",
   "execution_count": 3,
   "id": "194e1659",
   "metadata": {
    "ExecuteTime": {
     "end_time": "2023-07-15T09:24:30.497287853Z",
     "start_time": "2023-07-15T09:24:30.326595700Z"
    }
   },
   "outputs": [],
   "source": [
    "# 读取数据集\n",
    "df_train = pd.read_csv(\"train_10000.csv\")\n",
    "df_val = pd.read_csv(\"validate_1000.csv\")"
   ]
  },
  {
   "cell_type": "code",
   "execution_count": 4,
   "id": "c0d994e4",
   "metadata": {
    "ExecuteTime": {
     "end_time": "2023-07-15T09:24:30.543986494Z",
     "start_time": "2023-07-15T09:24:30.497726678Z"
    }
   },
   "outputs": [],
   "source": [
    "# 缺失值处理\n",
    "df_train = df_train.fillna(df_train.mean())\n",
    "df_val = df_val.fillna(df_val.mean())"
   ]
  },
  {
   "cell_type": "code",
   "execution_count": 5,
   "id": "25d8536c",
   "metadata": {
    "ExecuteTime": {
     "end_time": "2023-07-15T09:24:30.597631645Z",
     "start_time": "2023-07-15T09:24:30.551010271Z"
    }
   },
   "outputs": [],
   "source": [
    "# 切分数据集\n",
    "X_train = np.array(df_train.drop([\"label\", \"sample_id\"], axis=1))\n",
    "y_train = np.array(df_train[\"label\"])\n",
    "\n",
    "X_val = np.array(df_val.drop([\"label\", \"sample_id\"], axis=1))\n",
    "y_val = np.array(df_val[\"label\"])"
   ]
  },
  {
   "cell_type": "code",
   "execution_count": 6,
   "id": "bc4a5491",
   "metadata": {
    "ExecuteTime": {
     "end_time": "2023-07-15T09:24:30.598054248Z",
     "start_time": "2023-07-15T09:24:30.597314101Z"
    }
   },
   "outputs": [],
   "source": [
    "# 标准化数据\n",
    "scaler = StandardScaler()\n",
    "\n",
    "X_train_scaled = scaler.fit_transform(X_train)\n",
    "X_val_scaled = scaler.fit_transform(X_val)"
   ]
  },
  {
   "cell_type": "code",
   "execution_count": 7,
   "id": "93a14198",
   "metadata": {
    "ExecuteTime": {
     "end_time": "2023-07-15T09:24:33.095737822Z",
     "start_time": "2023-07-15T09:24:30.597936685Z"
    }
   },
   "outputs": [
    {
     "name": "stderr",
     "output_type": "stream",
     "text": [
      "/home/dekrt/Code/SystemHealer/venv/lib/python3.11/site-packages/sklearn/cluster/_kmeans.py:870: FutureWarning: The default value of `n_init` will change from 3 to 'auto' in 1.4. Set the value of `n_init` explicitly to suppress the warning\n",
      "  warnings.warn(\n",
      "/home/dekrt/Code/SystemHealer/venv/lib/python3.11/site-packages/sklearn/cluster/_kmeans.py:870: FutureWarning: The default value of `n_init` will change from 3 to 'auto' in 1.4. Set the value of `n_init` explicitly to suppress the warning\n",
      "  warnings.warn(\n",
      "/home/dekrt/Code/SystemHealer/venv/lib/python3.11/site-packages/sklearn/cluster/_kmeans.py:870: FutureWarning: The default value of `n_init` will change from 3 to 'auto' in 1.4. Set the value of `n_init` explicitly to suppress the warning\n",
      "  warnings.warn(\n",
      "/home/dekrt/Code/SystemHealer/venv/lib/python3.11/site-packages/sklearn/cluster/_kmeans.py:870: FutureWarning: The default value of `n_init` will change from 3 to 'auto' in 1.4. Set the value of `n_init` explicitly to suppress the warning\n",
      "  warnings.warn(\n",
      "/home/dekrt/Code/SystemHealer/venv/lib/python3.11/site-packages/sklearn/cluster/_kmeans.py:870: FutureWarning: The default value of `n_init` will change from 3 to 'auto' in 1.4. Set the value of `n_init` explicitly to suppress the warning\n",
      "  warnings.warn(\n"
     ]
    }
   ],
   "source": [
    "# 过采样数据\n",
    "kmeans_smote = KMeansSMOTE(cluster_balance_threshold=0.064, random_state=42)\n",
    "X_train_resampled, y_train_resampled = kmeans_smote.fit_resample(X_train_scaled, y_train)"
   ]
  },
  {
   "cell_type": "code",
   "execution_count": 8,
   "id": "eb3d2ad2",
   "metadata": {
    "ExecuteTime": {
     "end_time": "2023-07-15T09:24:33.102751658Z",
     "start_time": "2023-07-15T09:24:33.101310064Z"
    }
   },
   "outputs": [],
   "source": [
    "# 创建模型\n",
    "catboost_model = CatBoostClassifierWrapper(random_seed=42, verbose=False)\n",
    "gradientboost_model = GradientBoostingClassifier(random_state=42)\n",
    "svm_model = svm.SVC(random_state=42)\n",
    "\n",
    "voting_model = VotingClassifier(estimators=[\n",
    "    ('cb', catboost_model),\n",
    "    ('gb', gradientboost_model),\n",
    "    ('svm', svm_model)],\n",
    "    voting='hard')"
   ]
  },
  {
   "cell_type": "code",
   "execution_count": 9,
   "id": "41922290",
   "metadata": {
    "ExecuteTime": {
     "end_time": "2023-07-15T09:33:23.010846008Z",
     "start_time": "2023-07-15T09:24:33.103217604Z"
    }
   },
   "outputs": [],
   "source": [
    "voting_model = voting_model.fit(X_train_resampled, y_train_resampled)"
   ]
  },
  {
   "cell_type": "code",
   "execution_count": 10,
   "id": "5991ff1b",
   "metadata": {
    "ExecuteTime": {
     "end_time": "2023-07-15T09:33:24.080408135Z",
     "start_time": "2023-07-15T09:33:22.966936625Z"
    }
   },
   "outputs": [
    {
     "name": "stdout",
     "output_type": "stream",
     "text": [
      "0.7907462426002828\n",
      "              precision    recall  f1-score   support\n",
      "\n",
      "           0       0.51      0.84      0.63       176\n",
      "           1       0.72      0.50      0.59       166\n",
      "           2       0.75      0.77      0.76       171\n",
      "           3       1.00      0.78      0.88       169\n",
      "           4       0.99      0.99      0.99       156\n",
      "           5       1.00      0.81      0.90       162\n",
      "\n",
      "    accuracy                           0.78      1000\n",
      "   macro avg       0.83      0.78      0.79      1000\n",
      "weighted avg       0.82      0.78      0.79      1000\n",
      "\n"
     ]
    }
   ],
   "source": [
    "y_val_pred = voting_model.predict(X_val_scaled)\n",
    "macro_f1 = f1_score(y_val, y_val_pred, average='macro')\n",
    "print(macro_f1)\n",
    "print(classification_report(y_val, y_val_pred))"
   ]
  },
  {
   "cell_type": "code",
   "execution_count": 11,
   "id": "86900a1a",
   "metadata": {
    "ExecuteTime": {
     "end_time": "2023-07-15T09:33:33.953638674Z",
     "start_time": "2023-07-15T09:33:24.080213791Z"
    }
   },
   "outputs": [
    {
     "name": "stdout",
     "output_type": "stream",
     "text": [
      "0.9546642503442776\n",
      "              precision    recall  f1-score   support\n",
      "\n",
      "           0       0.97      0.99      0.98      5144\n",
      "           1       1.00      0.81      0.90      1062\n",
      "           2       0.87      0.95      0.91      1613\n",
      "           3       0.98      0.98      0.98       884\n",
      "           4       1.00      0.99      1.00       554\n",
      "           5       1.00      0.94      0.97       743\n",
      "\n",
      "    accuracy                           0.96     10000\n",
      "   macro avg       0.97      0.94      0.95     10000\n",
      "weighted avg       0.96      0.96      0.96     10000\n",
      "\n"
     ]
    }
   ],
   "source": [
    "y_train_pred = voting_model.predict(X_train_scaled)\n",
    "macro_f1 = f1_score(y_train, y_train_pred, average='macro')\n",
    "print(macro_f1)\n",
    "print(classification_report(y_train, y_train_pred))"
   ]
  }
 ],
 "metadata": {
  "kernelspec": {
   "display_name": "Python 3 (ipykernel)",
   "language": "python",
   "name": "python3"
  },
  "language_info": {
   "codemirror_mode": {
    "name": "ipython",
    "version": 3
   },
   "file_extension": ".py",
   "mimetype": "text/x-python",
   "name": "python",
   "nbconvert_exporter": "python",
   "pygments_lexer": "ipython3",
   "version": "3.10.9"
  }
 },
 "nbformat": 4,
 "nbformat_minor": 5
}
