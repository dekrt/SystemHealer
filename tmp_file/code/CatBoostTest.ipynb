{
 "cells": [
  {
   "cell_type": "code",
   "execution_count": 7,
   "id": "c5be169e",
   "metadata": {
    "ExecuteTime": {
     "end_time": "2023-07-15T09:34:07.133834895Z",
     "start_time": "2023-07-15T09:34:07.088866101Z"
    }
   },
   "outputs": [],
   "source": [
    "import numpy as np\n",
    "import pandas as pd\n",
    "import catboost as cb\n",
    "from sklearn.preprocessing import StandardScaler, MinMaxScaler\n",
    "from imblearn.over_sampling import SMOTE  # Use SMOTE for handling imbalance\n",
    "from sklearn.metrics import f1_score, classification_report\n",
    "from sklearn.ensemble import GradientBoostingClassifier, RandomForestClassifier\n",
    "from sklearn.model_selection import GridSearchCV  # Use GridSearch for hyperparameter tuning\n",
    "from sklearn.ensemble import VotingClassifier\n",
    "from sklearn.pipeline import Pipeline  # Use Pipeline for better code structure"
   ]
  },
  {
   "cell_type": "code",
   "execution_count": 8,
   "id": "194e1659",
   "metadata": {
    "ExecuteTime": {
     "end_time": "2023-07-15T09:34:07.235284701Z",
     "start_time": "2023-07-15T09:34:07.134291441Z"
    }
   },
   "outputs": [],
   "source": [
    "# 读取数据集\n",
    "df_train = pd.read_csv(\"train_10000.csv\")\n",
    "df_val = pd.read_csv(\"validate_1000.csv\")"
   ]
  },
  {
   "cell_type": "code",
   "execution_count": 9,
   "id": "c0d994e4",
   "metadata": {
    "ExecuteTime": {
     "end_time": "2023-07-15T09:34:07.280502544Z",
     "start_time": "2023-07-15T09:34:07.236767621Z"
    }
   },
   "outputs": [],
   "source": [
    "# 缺失值处理\n",
    "df_train = df_train.fillna(df_train.mean())\n",
    "df_val = df_val.fillna(df_val.mean())"
   ]
  },
  {
   "cell_type": "code",
   "execution_count": 10,
   "id": "25d8536c",
   "metadata": {
    "ExecuteTime": {
     "end_time": "2023-07-15T09:34:07.327233416Z",
     "start_time": "2023-07-15T09:34:07.326906013Z"
    }
   },
   "outputs": [],
   "source": [
    "# 切分数据集\n",
    "X_train = np.array(df_train.drop([\"label\", \"sample_id\"], axis=1))\n",
    "y_train = np.array(df_train[\"label\"])\n",
    "\n",
    "X_val = np.array(df_val.drop([\"label\", \"sample_id\"], axis=1))\n",
    "y_val = np.array(df_val[\"label\"])"
   ]
  },
  {
   "cell_type": "code",
   "execution_count": 11,
   "id": "bc4a5491",
   "metadata": {
    "ExecuteTime": {
     "end_time": "2023-07-15T09:34:07.328640827Z",
     "start_time": "2023-07-15T09:34:07.327482354Z"
    }
   },
   "outputs": [],
   "source": [
    "# 标准化数据\n",
    "scaler = MinMaxScaler()\n",
    "\n",
    "X_train_scaled = scaler.fit_transform(X_train)\n",
    "X_val_scaled = scaler.fit_transform(X_val)"
   ]
  },
  {
   "cell_type": "code",
   "execution_count": 12,
   "id": "93a14198",
   "metadata": {
    "ExecuteTime": {
     "end_time": "2023-07-15T09:34:07.407518775Z",
     "start_time": "2023-07-15T09:34:07.327654101Z"
    }
   },
   "outputs": [],
   "source": [
    "# 过采样数据\n",
    "smote = SMOTE(random_state=42)\n",
    "X_train_res, y_train_res = smote.fit_resample(X_train_scaled, y_train)"
   ]
  },
  {
   "cell_type": "code",
   "execution_count": 13,
   "outputs": [],
   "source": [
    "# Hyperparameters for GridSearch\n",
    "param_grid = {\n",
    "    'learning_rate': [0.01, 0.1, 1],\n",
    "    'n_estimators': [100, 200],\n",
    "    'max_depth': [3, 5, 7]\n",
    "}"
   ],
   "metadata": {
    "collapsed": false,
    "ExecuteTime": {
     "end_time": "2023-07-15T09:34:07.451136007Z",
     "start_time": "2023-07-15T09:34:07.408526552Z"
    }
   }
  },
  {
   "cell_type": "code",
   "execution_count": 14,
   "outputs": [],
   "source": [
    "# Use GridSearch for hyperparameter tuning\n",
    "clf = GridSearchCV(GradientBoostingClassifier(), param_grid, cv=5)"
   ],
   "metadata": {
    "collapsed": false,
    "ExecuteTime": {
     "end_time": "2023-07-15T09:34:07.451632461Z",
     "start_time": "2023-07-15T09:34:07.450622269Z"
    }
   }
  },
  {
   "cell_type": "code",
   "execution_count": 15,
   "outputs": [],
   "source": [
    "# Create a pipeline for better code structure\n",
    "pipeline = Pipeline([\n",
    "    ('scaler', MinMaxScaler()),\n",
    "    ('clf', clf)\n",
    "])"
   ],
   "metadata": {
    "collapsed": false,
    "ExecuteTime": {
     "end_time": "2023-07-15T09:34:07.451821763Z",
     "start_time": "2023-07-15T09:34:07.451505743Z"
    }
   }
  },
  {
   "cell_type": "code",
   "execution_count": null,
   "id": "eb3d2ad2",
   "metadata": {
    "is_executing": true
   },
   "outputs": [],
   "source": [
    "# Train the model\n",
    "pipeline.fit(X_train_res, y_train_res)"
   ]
  },
  {
   "cell_type": "code",
   "execution_count": null,
   "outputs": [],
   "source": [
    "# Evaluate the model\n",
    "print(classification_report(y_val, pipeline.predict(X_val_scaled)))"
   ],
   "metadata": {
    "collapsed": false,
    "is_executing": true
   }
  },
  {
   "cell_type": "code",
   "execution_count": null,
   "outputs": [],
   "source": [],
   "metadata": {
    "collapsed": false
   }
  }
 ],
 "metadata": {
  "kernelspec": {
   "display_name": "Python 3 (ipykernel)",
   "language": "python",
   "name": "python3"
  },
  "language_info": {
   "codemirror_mode": {
    "name": "ipython",
    "version": 3
   },
   "file_extension": ".py",
   "mimetype": "text/x-python",
   "name": "python",
   "nbconvert_exporter": "python",
   "pygments_lexer": "ipython3",
   "version": "3.10.9"
  }
 },
 "nbformat": 4,
 "nbformat_minor": 5
}
