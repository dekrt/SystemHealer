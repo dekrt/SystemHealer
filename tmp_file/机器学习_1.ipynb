{
 "cells": [
  {
   "cell_type": "code",
   "execution_count": 182,
   "id": "c5be169e",
   "metadata": {
    "ExecuteTime": {
     "end_time": "2023-07-15T10:50:49.386456878Z",
     "start_time": "2023-07-15T10:50:49.341391393Z"
    }
   },
   "outputs": [],
   "source": [
    "import numpy as np\n",
    "import pandas as pd\n",
    "import catboost as cb\n",
    "from sklearn.preprocessing import StandardScaler\n",
    "from imblearn.over_sampling import KMeansSMOTE\n",
    "from sklearn.metrics import f1_score, classification_report\n",
    "from sklearn.experimental import enable_iterative_imputer\n",
    "from sklearn.impute import IterativeImputer\n",
    "from xgboost import XGBClassifier\n",
    "import lightgbm as lgb\n",
    "from sklearn.neural_network import MLPClassifier"
   ]
  },
  {
   "cell_type": "code",
   "execution_count": 183,
   "id": "194e1659",
   "metadata": {
    "ExecuteTime": {
     "end_time": "2023-07-15T10:50:49.510214175Z",
     "start_time": "2023-07-15T10:50:49.386749411Z"
    }
   },
   "outputs": [],
   "source": [
    "# 读取数据集\n",
    "df_train = pd.read_csv(\"train_10000.csv\")\n",
    "df_val = pd.read_csv(\"validate_1000.csv\")"
   ]
  },
  {
   "cell_type": "code",
   "execution_count": 184,
   "outputs": [],
   "source": [
    "# 缺失值处理\n",
    "df_train = df_train.fillna(df_train.mean())\n",
    "df_val = df_val.fillna(df_val.mean())"
   ],
   "metadata": {
    "collapsed": false,
    "ExecuteTime": {
     "end_time": "2023-07-15T10:50:49.571221350Z",
     "start_time": "2023-07-15T10:50:49.510764545Z"
    }
   }
  },
  {
   "cell_type": "code",
   "execution_count": 185,
   "id": "25d8536c",
   "metadata": {
    "ExecuteTime": {
     "end_time": "2023-07-15T10:50:49.627625673Z",
     "start_time": "2023-07-15T10:50:49.569984412Z"
    }
   },
   "outputs": [],
   "source": [
    "# 切分数据集\n",
    "X_train = np.array(df_train.drop([\"label\", \"sample_id\"], axis=1))\n",
    "y_train = np.array(df_train[\"label\"])\n",
    "\n",
    "X_val = np.array(df_val.drop([\"label\", \"sample_id\"], axis=1))\n",
    "y_val = np.array(df_val[\"label\"])"
   ]
  },
  {
   "cell_type": "code",
   "execution_count": 186,
   "id": "bc4a5491",
   "metadata": {
    "ExecuteTime": {
     "end_time": "2023-07-15T10:50:49.627909720Z",
     "start_time": "2023-07-15T10:50:49.613215949Z"
    }
   },
   "outputs": [],
   "source": [
    "# 标准化数据\n",
    "scaler = StandardScaler()\n",
    "\n",
    "X_train_scaled = scaler.fit_transform(X_train)\n",
    "X_val_scaled = scaler.fit_transform(X_val)"
   ]
  },
  {
   "cell_type": "code",
   "execution_count": 187,
   "id": "93a14198",
   "metadata": {
    "ExecuteTime": {
     "end_time": "2023-07-15T10:50:56.972405417Z",
     "start_time": "2023-07-15T10:50:49.613406669Z"
    }
   },
   "outputs": [],
   "source": [
    "# 过采样数据\n",
    "kmeans_smote = KMeansSMOTE()\n",
    "X_train_resampled, y_train_resampled = kmeans_smote.fit_resample(X_train_scaled, y_train)"
   ]
  },
  {
   "cell_type": "code",
   "execution_count": 188,
   "id": "eb3d2ad2",
   "metadata": {
    "ExecuteTime": {
     "end_time": "2023-07-15T10:50:56.974105071Z",
     "start_time": "2023-07-15T10:50:56.972687811Z"
    }
   },
   "outputs": [],
   "source": [
    "mlp_model = MLPClassifier()"
   ]
  },
  {
   "cell_type": "code",
   "execution_count": 189,
   "id": "41922290",
   "metadata": {
    "ExecuteTime": {
     "end_time": "2023-07-15T10:51:14.701950660Z",
     "start_time": "2023-07-15T10:50:56.975162089Z"
    }
   },
   "outputs": [
    {
     "data": {
      "text/plain": "MLPClassifier()",
      "text/html": "<style>#sk-container-id-5 {color: black;background-color: white;}#sk-container-id-5 pre{padding: 0;}#sk-container-id-5 div.sk-toggleable {background-color: white;}#sk-container-id-5 label.sk-toggleable__label {cursor: pointer;display: block;width: 100%;margin-bottom: 0;padding: 0.3em;box-sizing: border-box;text-align: center;}#sk-container-id-5 label.sk-toggleable__label-arrow:before {content: \"▸\";float: left;margin-right: 0.25em;color: #696969;}#sk-container-id-5 label.sk-toggleable__label-arrow:hover:before {color: black;}#sk-container-id-5 div.sk-estimator:hover label.sk-toggleable__label-arrow:before {color: black;}#sk-container-id-5 div.sk-toggleable__content {max-height: 0;max-width: 0;overflow: hidden;text-align: left;background-color: #f0f8ff;}#sk-container-id-5 div.sk-toggleable__content pre {margin: 0.2em;color: black;border-radius: 0.25em;background-color: #f0f8ff;}#sk-container-id-5 input.sk-toggleable__control:checked~div.sk-toggleable__content {max-height: 200px;max-width: 100%;overflow: auto;}#sk-container-id-5 input.sk-toggleable__control:checked~label.sk-toggleable__label-arrow:before {content: \"▾\";}#sk-container-id-5 div.sk-estimator input.sk-toggleable__control:checked~label.sk-toggleable__label {background-color: #d4ebff;}#sk-container-id-5 div.sk-label input.sk-toggleable__control:checked~label.sk-toggleable__label {background-color: #d4ebff;}#sk-container-id-5 input.sk-hidden--visually {border: 0;clip: rect(1px 1px 1px 1px);clip: rect(1px, 1px, 1px, 1px);height: 1px;margin: -1px;overflow: hidden;padding: 0;position: absolute;width: 1px;}#sk-container-id-5 div.sk-estimator {font-family: monospace;background-color: #f0f8ff;border: 1px dotted black;border-radius: 0.25em;box-sizing: border-box;margin-bottom: 0.5em;}#sk-container-id-5 div.sk-estimator:hover {background-color: #d4ebff;}#sk-container-id-5 div.sk-parallel-item::after {content: \"\";width: 100%;border-bottom: 1px solid gray;flex-grow: 1;}#sk-container-id-5 div.sk-label:hover label.sk-toggleable__label {background-color: #d4ebff;}#sk-container-id-5 div.sk-serial::before {content: \"\";position: absolute;border-left: 1px solid gray;box-sizing: border-box;top: 0;bottom: 0;left: 50%;z-index: 0;}#sk-container-id-5 div.sk-serial {display: flex;flex-direction: column;align-items: center;background-color: white;padding-right: 0.2em;padding-left: 0.2em;position: relative;}#sk-container-id-5 div.sk-item {position: relative;z-index: 1;}#sk-container-id-5 div.sk-parallel {display: flex;align-items: stretch;justify-content: center;background-color: white;position: relative;}#sk-container-id-5 div.sk-item::before, #sk-container-id-5 div.sk-parallel-item::before {content: \"\";position: absolute;border-left: 1px solid gray;box-sizing: border-box;top: 0;bottom: 0;left: 50%;z-index: -1;}#sk-container-id-5 div.sk-parallel-item {display: flex;flex-direction: column;z-index: 1;position: relative;background-color: white;}#sk-container-id-5 div.sk-parallel-item:first-child::after {align-self: flex-end;width: 50%;}#sk-container-id-5 div.sk-parallel-item:last-child::after {align-self: flex-start;width: 50%;}#sk-container-id-5 div.sk-parallel-item:only-child::after {width: 0;}#sk-container-id-5 div.sk-dashed-wrapped {border: 1px dashed gray;margin: 0 0.4em 0.5em 0.4em;box-sizing: border-box;padding-bottom: 0.4em;background-color: white;}#sk-container-id-5 div.sk-label label {font-family: monospace;font-weight: bold;display: inline-block;line-height: 1.2em;}#sk-container-id-5 div.sk-label-container {text-align: center;}#sk-container-id-5 div.sk-container {/* jupyter's `normalize.less` sets `[hidden] { display: none; }` but bootstrap.min.css set `[hidden] { display: none !important; }` so we also need the `!important` here to be able to override the default hidden behavior on the sphinx rendered scikit-learn.org. See: https://github.com/scikit-learn/scikit-learn/issues/21755 */display: inline-block !important;position: relative;}#sk-container-id-5 div.sk-text-repr-fallback {display: none;}</style><div id=\"sk-container-id-5\" class=\"sk-top-container\"><div class=\"sk-text-repr-fallback\"><pre>MLPClassifier()</pre><b>In a Jupyter environment, please rerun this cell to show the HTML representation or trust the notebook. <br />On GitHub, the HTML representation is unable to render, please try loading this page with nbviewer.org.</b></div><div class=\"sk-container\" hidden><div class=\"sk-item\"><div class=\"sk-estimator sk-toggleable\"><input class=\"sk-toggleable__control sk-hidden--visually\" id=\"sk-estimator-id-5\" type=\"checkbox\" checked><label for=\"sk-estimator-id-5\" class=\"sk-toggleable__label sk-toggleable__label-arrow\">MLPClassifier</label><div class=\"sk-toggleable__content\"><pre>MLPClassifier()</pre></div></div></div></div></div>"
     },
     "execution_count": 189,
     "metadata": {},
     "output_type": "execute_result"
    }
   ],
   "source": [
    "mlp_model.fit(X_train_resampled, y_train_resampled)"
   ]
  },
  {
   "cell_type": "code",
   "execution_count": 190,
   "id": "5991ff1b",
   "metadata": {
    "ExecuteTime": {
     "end_time": "2023-07-15T10:51:14.702371606Z",
     "start_time": "2023-07-15T10:51:14.683224990Z"
    }
   },
   "outputs": [
    {
     "name": "stdout",
     "output_type": "stream",
     "text": [
      "0.7989386908030213\n",
      "              precision    recall  f1-score   support\n",
      "\n",
      "           0       0.59      0.91      0.71       176\n",
      "           1       0.72      0.52      0.60       166\n",
      "           2       0.69      0.66      0.67       171\n",
      "           3       0.98      0.92      0.95       169\n",
      "           4       0.99      0.94      0.96       156\n",
      "           5       0.99      0.81      0.89       162\n",
      "\n",
      "    accuracy                           0.79      1000\n",
      "   macro avg       0.82      0.79      0.80      1000\n",
      "weighted avg       0.82      0.79      0.80      1000\n",
      "\n"
     ]
    }
   ],
   "source": [
    "y_val_pred = mlp_model.predict(X_val_scaled)\n",
    "macro_f1 = f1_score(y_val, y_val_pred, average='macro')\n",
    "print(macro_f1)\n",
    "print(classification_report(y_val, y_val_pred))"
   ]
  },
  {
   "cell_type": "code",
   "execution_count": 191,
   "id": "86900a1a",
   "metadata": {
    "ExecuteTime": {
     "end_time": "2023-07-15T10:51:14.764907280Z",
     "start_time": "2023-07-15T10:51:14.683545285Z"
    }
   },
   "outputs": [
    {
     "name": "stdout",
     "output_type": "stream",
     "text": [
      "1.0\n",
      "              precision    recall  f1-score   support\n",
      "\n",
      "           0       1.00      1.00      1.00      5144\n",
      "           1       1.00      1.00      1.00      1062\n",
      "           2       1.00      1.00      1.00      1613\n",
      "           3       1.00      1.00      1.00       884\n",
      "           4       1.00      1.00      1.00       554\n",
      "           5       1.00      1.00      1.00       743\n",
      "\n",
      "    accuracy                           1.00     10000\n",
      "   macro avg       1.00      1.00      1.00     10000\n",
      "weighted avg       1.00      1.00      1.00     10000\n",
      "\n"
     ]
    }
   ],
   "source": [
    "y_train_pred = mlp_model.predict(X_train_scaled)\n",
    "macro_f1 = f1_score(y_train, y_train_pred, average='macro')\n",
    "print(macro_f1)\n",
    "print(classification_report(y_train, y_train_pred))"
   ]
  },
  {
   "cell_type": "code",
   "execution_count": 191,
   "id": "a99e8504",
   "metadata": {
    "ExecuteTime": {
     "end_time": "2023-07-15T10:51:14.773209219Z",
     "start_time": "2023-07-15T10:51:14.737799820Z"
    }
   },
   "outputs": [],
   "source": []
  }
 ],
 "metadata": {
  "kernelspec": {
   "display_name": "Python 3 (ipykernel)",
   "language": "python",
   "name": "python3"
  },
  "language_info": {
   "codemirror_mode": {
    "name": "ipython",
    "version": 3
   },
   "file_extension": ".py",
   "mimetype": "text/x-python",
   "name": "python",
   "nbconvert_exporter": "python",
   "pygments_lexer": "ipython3",
   "version": "3.10.9"
  }
 },
 "nbformat": 4,
 "nbformat_minor": 5
}
